{
 "metadata": {
  "name": "",
  "signature": "sha256:46fce4827e656ede7d112996559f70f24cbbc509e92bad94494c4418a7a2f8f7"
 },
 "nbformat": 3,
 "nbformat_minor": 0,
 "worksheets": [
  {
   "cells": [
    {
     "cell_type": "code",
     "collapsed": false,
     "input": [
      "import pandas as pd, os, numpy as np, imp, datetime as dt\n",
      "kbn_sql = imp.load_source('kbn_iter_sql', 'C:/utilities/python/kbn_iter_sql.py')\n",
      "path = 'C:/proj/wheaton/'\n",
      "os.chdir(path)\n",
      "fils = os.listdir('.')\n",
      "%pylab inline"
     ],
     "language": "python",
     "metadata": {},
     "outputs": [
      {
       "output_type": "stream",
       "stream": "stdout",
       "text": [
        "Populating the interactive namespace from numpy and matplotlib\n"
       ]
      }
     ],
     "prompt_number": 49
    },
    {
     "cell_type": "code",
     "collapsed": false,
     "input": [
      "import seaborn as sns"
     ],
     "language": "python",
     "metadata": {},
     "outputs": [],
     "prompt_number": 50
    },
    {
     "cell_type": "heading",
     "level": 2,
     "metadata": {},
     "source": [
      "Load in Data From Datameer and Process"
     ]
    },
    {
     "cell_type": "code",
     "collapsed": false,
     "input": [
      "anyMarch = pd.read_csv(path + 'existing_agg_anyMarch.csv')\n",
      "rev = pd.read_csv(path + 'existing_agg_rev.csv')\n",
      "questMarch = pd.read_csv(path + 'existing_agg_questMarch.csv')\n",
      "\n",
      "for df in [anyMarch, rev, questMarch]:\n",
      "    df.install_date = pd.to_datetime(df['install_date'])\n",
      "    df.install_date = pd.to_datetime(df.install_date.map(lambda x: x.date()))"
     ],
     "language": "python",
     "metadata": {},
     "outputs": [],
     "prompt_number": 51
    },
    {
     "cell_type": "code",
     "collapsed": false,
     "input": [
      "anyMarch = anyMarch.set_index(['naid', 'controlPeriod']).unstack().reset_index()\n",
      "rev = rev.set_index(['naid', 'controlPeriod']).unstack().reset_index()"
     ],
     "language": "python",
     "metadata": {},
     "outputs": [],
     "prompt_number": 52
    },
    {
     "cell_type": "code",
     "collapsed": false,
     "input": [
      "#to combine cols after datameer formatting\n",
      "def combiner(x, col):\n",
      "    inst = x[(col, False)]\n",
      "    if pd.isnull(inst):\n",
      "        return x[(col, True)]\n",
      "    else:\n",
      "        return inst\n",
      "\n",
      "for col in ['install_date', 'player_level', 'user_type_id']:\n",
      "    anyMarch[col] = anyMarch.apply(lambda x: combiner(x, col), axis = 1)"
     ],
     "language": "python",
     "metadata": {},
     "outputs": [],
     "prompt_number": 53
    },
    {
     "cell_type": "code",
     "collapsed": false,
     "input": [
      "anyMarch = anyMarch.drop([('install_date', True), ('player_level', True), ('user_type_id', True)], axis = 1)\n",
      "anyMarch.columns = ['naid', 'install_date', \n",
      "                    'player_level', 'user_type_id', \n",
      "                    'during_marchCount', 'pre_marchCount', \n",
      "                    'during_distDays', 'pre_distDays']\n",
      "\n",
      "anyMarch.fillna(0, inplace = True)\n",
      "#normalizing to period length\n",
      "anyMarch.pre_marchCount /= 17.\n",
      "anyMarch.during_marchCount /= 11.\n",
      "anyMarch.pre_distDays /= 17.\n",
      "anyMarch.during_distDays /= 11."
     ],
     "language": "python",
     "metadata": {},
     "outputs": [],
     "prompt_number": 54
    },
    {
     "cell_type": "code",
     "collapsed": false,
     "input": [
      "rev = rev[['naid', 'rev']]\n",
      "rev.columns = ['naid', 'during_rev', 'pre_rev']\n",
      "\n",
      "rev.fillna(0, inplace = True)\n",
      "rev.pre_rev /= 17. #Apr1-Apr17\n",
      "rev.during_rev /= 11. #Apr18-Apr28"
     ],
     "language": "python",
     "metadata": {},
     "outputs": [],
     "prompt_number": 55
    },
    {
     "cell_type": "code",
     "collapsed": false,
     "input": [
      "questMarch = questMarch[['naid', 'terrain', 'atk_cnt']]\n",
      "questMarch = questMarch.set_index(['naid', 'terrain']).unstack().reset_index()\n",
      "questMarch.fillna(0, inplace = True)\n",
      "questMarch.columns = ['naid', 'Forest', 'Mountain', 'Grassland']"
     ],
     "language": "python",
     "metadata": {},
     "outputs": [],
     "prompt_number": 56
    },
    {
     "cell_type": "code",
     "collapsed": false,
     "input": [
      "anyMarch.head(), rev.head(), questMarch.head()"
     ],
     "language": "python",
     "metadata": {},
     "outputs": [
      {
       "metadata": {},
       "output_type": "pyout",
       "prompt_number": 57,
       "text": [
        "(       naid install_date  player_level  user_type_id  during_marchCount  \\\n",
        " 0  90221013   2013-04-18            10             1           0.000000   \n",
        " 1  90697575   2013-04-20            19             2           0.272727   \n",
        " 2  90782803   2013-04-21            33             3           1.272727   \n",
        " 3  90803214   2013-04-21            32             5           1.000000   \n",
        " 4  90858365   2013-04-21            32             2           0.363636   \n",
        " \n",
        "    pre_marchCount  during_distDays  pre_distDays  \n",
        " 0        0.058824         0.000000      0.058824  \n",
        " 1        0.000000         0.181818      0.000000  \n",
        " 2        0.941176         0.545455      0.117647  \n",
        " 3        0.352941         0.090909      0.058824  \n",
        " 4        0.058824         0.272727      0.058824  \n",
        " \n",
        " [5 rows x 8 columns],        naid   during_rev      pre_rev\n",
        " 0  90782803     1.363636     0.000000\n",
        " 1  90900028     0.000000   133.176471\n",
        " 2  90920304  5109.090909  1119.647059\n",
        " 3  90973516   412.090909   549.235294\n",
        " 4  90974408   453.090909   159.470588\n",
        " \n",
        " [5 rows x 3 columns],        naid  Forest  Mountain  Grassland\n",
        " 0  90782803       0         2          0\n",
        " 1  90882059       5         1          4\n",
        " 2  90892839      20         9          5\n",
        " 3  90900028      30         1          0\n",
        " 4  90920304       7        15         13\n",
        " \n",
        " [5 rows x 4 columns])"
       ]
      }
     ],
     "prompt_number": 57
    },
    {
     "cell_type": "heading",
     "level": 1,
     "metadata": {},
     "source": [
      "Read in _AW data"
     ]
    },
    {
     "cell_type": "code",
     "collapsed": false,
     "input": [
      "res_uniq = pd.read_csv(path + '/spotfire_aw_data/all_unique_aw.csv')\n",
      "res_uniq = res_uniq[['user_id', 'player_name']]"
     ],
     "language": "python",
     "metadata": {},
     "outputs": [],
     "prompt_number": 58
    },
    {
     "cell_type": "code",
     "collapsed": false,
     "input": [
      "res_uniq.head()"
     ],
     "language": "python",
     "metadata": {},
     "outputs": [
      {
       "html": [
        "<div style=\"max-height:1000px;max-width:1500px;overflow:auto;\">\n",
        "<table border=\"1\" class=\"dataframe\">\n",
        "  <thead>\n",
        "    <tr style=\"text-align: right;\">\n",
        "      <th></th>\n",
        "      <th>user_id</th>\n",
        "      <th>player_name</th>\n",
        "    </tr>\n",
        "  </thead>\n",
        "  <tbody>\n",
        "    <tr>\n",
        "      <th>0</th>\n",
        "      <td>  11497</td>\n",
        "      <td>          Cacc_AW</td>\n",
        "    </tr>\n",
        "    <tr>\n",
        "      <th>1</th>\n",
        "      <td>  61151</td>\n",
        "      <td> Rogue_Paladin_AW</td>\n",
        "    </tr>\n",
        "    <tr>\n",
        "      <th>2</th>\n",
        "      <td>  68972</td>\n",
        "      <td>        Eragon_AW</td>\n",
        "    </tr>\n",
        "    <tr>\n",
        "      <th>3</th>\n",
        "      <td>  96518</td>\n",
        "      <td>       Absalom_AW</td>\n",
        "    </tr>\n",
        "    <tr>\n",
        "      <th>4</th>\n",
        "      <td> 215707</td>\n",
        "      <td>        Leeira_AW</td>\n",
        "    </tr>\n",
        "  </tbody>\n",
        "</table>\n",
        "<p>5 rows \u00d7 2 columns</p>\n",
        "</div>"
       ],
       "metadata": {},
       "output_type": "pyout",
       "prompt_number": 59,
       "text": [
        "   user_id       player_name\n",
        "0    11497           Cacc_AW\n",
        "1    61151  Rogue_Paladin_AW\n",
        "2    68972         Eragon_AW\n",
        "3    96518        Absalom_AW\n",
        "4   215707         Leeira_AW\n",
        "\n",
        "[5 rows x 2 columns]"
       ]
      }
     ],
     "prompt_number": 59
    },
    {
     "cell_type": "heading",
     "level": 1,
     "metadata": {},
     "source": [
      "Load Table to Join _AW and other Data"
     ]
    },
    {
     "cell_type": "code",
     "collapsed": false,
     "input": [
      "join_table = kbn_sql.wrap_query('rkravitz', 'sqrt{nEg5}NOTufd', 'doam_cross', \"select id, naid from users where created_at >= '2014-04-15'\")"
     ],
     "language": "python",
     "metadata": {},
     "outputs": [],
     "prompt_number": 60
    },
    {
     "cell_type": "code",
     "collapsed": false,
     "input": [
      "join_table.head()"
     ],
     "language": "python",
     "metadata": {},
     "outputs": [
      {
       "html": [
        "<div style=\"max-height:1000px;max-width:1500px;overflow:auto;\">\n",
        "<table border=\"1\" class=\"dataframe\">\n",
        "  <thead>\n",
        "    <tr style=\"text-align: right;\">\n",
        "      <th></th>\n",
        "      <th>id</th>\n",
        "      <th>naid</th>\n",
        "    </tr>\n",
        "  </thead>\n",
        "  <tbody>\n",
        "    <tr>\n",
        "      <th>0</th>\n",
        "      <td> 7411135</td>\n",
        "      <td> 218862135</td>\n",
        "    </tr>\n",
        "    <tr>\n",
        "      <th>1</th>\n",
        "      <td> 7411136</td>\n",
        "      <td> 218862449</td>\n",
        "    </tr>\n",
        "    <tr>\n",
        "      <th>2</th>\n",
        "      <td> 7411137</td>\n",
        "      <td> 218862824</td>\n",
        "    </tr>\n",
        "    <tr>\n",
        "      <th>3</th>\n",
        "      <td> 7411138</td>\n",
        "      <td> 218862616</td>\n",
        "    </tr>\n",
        "    <tr>\n",
        "      <th>4</th>\n",
        "      <td> 7411139</td>\n",
        "      <td> 218862746</td>\n",
        "    </tr>\n",
        "  </tbody>\n",
        "</table>\n",
        "<p>5 rows \u00d7 2 columns</p>\n",
        "</div>"
       ],
       "metadata": {},
       "output_type": "pyout",
       "prompt_number": 61,
       "text": [
        "        id       naid\n",
        "0  7411135  218862135\n",
        "1  7411136  218862449\n",
        "2  7411137  218862824\n",
        "3  7411138  218862616\n",
        "4  7411139  218862746\n",
        "\n",
        "[5 rows x 2 columns]"
       ]
      }
     ],
     "prompt_number": 61
    },
    {
     "cell_type": "heading",
     "level": 1,
     "metadata": {},
     "source": [
      "Join Data Together"
     ]
    },
    {
     "cell_type": "code",
     "collapsed": false,
     "input": [
      "df = anyMarch.merge(rev, on = 'naid', how = 'left').merge(questMarch, on = 'naid', how = 'left').fillna(0)\n",
      "df = df[(df.install_date < dt.date(2014, 4, 18)) & (df.install_date > dt.date(2013, 7, 1))]\n",
      "df = df.merge(join_table, on = 'naid', how = 'left')"
     ],
     "language": "python",
     "metadata": {},
     "outputs": [],
     "prompt_number": 62
    },
    {
     "cell_type": "code",
     "collapsed": false,
     "input": [
      "df['aw'] = ~np.isnan(df.id)"
     ],
     "language": "python",
     "metadata": {},
     "outputs": [],
     "prompt_number": 63
    },
    {
     "cell_type": "code",
     "collapsed": false,
     "input": [
      "df.info()"
     ],
     "language": "python",
     "metadata": {},
     "outputs": [
      {
       "output_type": "stream",
       "stream": "stdout",
       "text": [
        "<class 'pandas.core.frame.DataFrame'>\n",
        "Int64Index: 179753 entries, 0 to 179752\n",
        "Data columns (total 15 columns):\n",
        "naid                 179753 non-null int64\n",
        "install_date         179753 non-null object\n",
        "player_level         179753 non-null float64\n",
        "user_type_id         179753 non-null float64\n",
        "during_marchCount    179753 non-null float64\n",
        "pre_marchCount       179753 non-null float64\n",
        "during_distDays      179753 non-null float64\n",
        "pre_distDays         179753 non-null float64\n",
        "during_rev           179753 non-null float64\n",
        "pre_rev              179753 non-null float64\n",
        "Forest               179753 non-null float64\n",
        "Mountain             179753 non-null float64\n",
        "Grassland            179753 non-null float64\n",
        "id                   8308 non-null float64\n",
        "aw                   179753 non-null bool\n",
        "dtypes: bool(1), float64(12), int64(1), object(1)"
       ]
      }
     ],
     "prompt_number": 64
    },
    {
     "cell_type": "heading",
     "level": 1,
     "metadata": {},
     "source": [
      "_AW "
     ]
    },
    {
     "cell_type": "heading",
     "level": 2,
     "metadata": {},
     "source": [
      "Overall Breakdown"
     ]
    },
    {
     "cell_type": "code",
     "collapsed": false,
     "input": [
      "df.groupby('aw').size().plot(kind = 'bar')\n",
      "title('Existing Users who Ever Adopted _AW')"
     ],
     "language": "python",
     "metadata": {},
     "outputs": [
      {
       "metadata": {},
       "output_type": "pyout",
       "prompt_number": 65,
       "text": [
        "<matplotlib.text.Text at 0x104cbb38>"
       ]
      },
      {
       "metadata": {},
       "output_type": "display_data",
       "png": "[encoded data removed]",
       "text": [
        "<matplotlib.figure.Figure at 0x1c1bf588>"
       ]
      }
     ],
     "prompt_number": 65
    },
    {
     "cell_type": "code",
     "collapsed": false,
     "input": [
      "by_userid = pd.crosstab([df.user_type_id], df.aw)\n",
      "by_userid.plot(kind = 'bar', stacked = True)\n",
      "title('_AW adoption By User Id')"
     ],
     "language": "python",
     "metadata": {},
     "outputs": [
      {
       "metadata": {},
       "output_type": "pyout",
       "prompt_number": 96,
       "text": [
        "<matplotlib.text.Text at 0x108b5080>"
       ]
      },
      {
       "metadata": {},
       "output_type": "display_data",
       "png": "[encoded data removed]",
       "text": [
        "<matplotlib.figure.Figure at 0x1c5b5f28>"
       ]
      }
     ],
     "prompt_number": 96
    },
    {
     "cell_type": "code",
     "collapsed": false,
     "input": [
      "by_userid_counts = df.groupby(['user_type_id', 'aw']).size().unstack()\n",
      "by_userid_counts['pct'] = by_userid_counts[True] / by_userid_counts.sum(axis = 1).map(float)\n",
      "by_userid_counts"
     ],
     "language": "python",
     "metadata": {},
     "outputs": [
      {
       "html": [
        "<div style=\"max-height:1000px;max-width:1500px;overflow:auto;\">\n",
        "<table border=\"1\" class=\"dataframe\">\n",
        "  <thead>\n",
        "    <tr style=\"text-align: right;\">\n",
        "      <th>aw</th>\n",
        "      <th>False</th>\n",
        "      <th>True</th>\n",
        "      <th>pct</th>\n",
        "    </tr>\n",
        "    <tr>\n",
        "      <th>user_type_id</th>\n",
        "      <th></th>\n",
        "      <th></th>\n",
        "      <th></th>\n",
        "    </tr>\n",
        "  </thead>\n",
        "  <tbody>\n",
        "    <tr>\n",
        "      <th>1</th>\n",
        "      <td> 104857</td>\n",
        "      <td> 7371</td>\n",
        "      <td> 0.065679</td>\n",
        "    </tr>\n",
        "    <tr>\n",
        "      <th>2</th>\n",
        "      <td>  21139</td>\n",
        "      <td>  243</td>\n",
        "      <td> 0.011365</td>\n",
        "    </tr>\n",
        "    <tr>\n",
        "      <th>3</th>\n",
        "      <td>  13504</td>\n",
        "      <td>  259</td>\n",
        "      <td> 0.018819</td>\n",
        "    </tr>\n",
        "    <tr>\n",
        "      <th>4</th>\n",
        "      <td>  10670</td>\n",
        "      <td>  137</td>\n",
        "      <td> 0.012677</td>\n",
        "    </tr>\n",
        "    <tr>\n",
        "      <th>5</th>\n",
        "      <td>   7624</td>\n",
        "      <td>  110</td>\n",
        "      <td> 0.014223</td>\n",
        "    </tr>\n",
        "    <tr>\n",
        "      <th>6</th>\n",
        "      <td>  13651</td>\n",
        "      <td>  188</td>\n",
        "      <td> 0.013585</td>\n",
        "    </tr>\n",
        "  </tbody>\n",
        "</table>\n",
        "<p>6 rows \u00d7 3 columns</p>\n",
        "</div>"
       ],
       "metadata": {},
       "output_type": "pyout",
       "prompt_number": 67,
       "text": [
        "aw             False  True       pct\n",
        "user_type_id                        \n",
        "1             104857  7371  0.065679\n",
        "2              21139   243  0.011365\n",
        "3              13504   259  0.018819\n",
        "4              10670   137  0.012677\n",
        "5               7624   110  0.014223\n",
        "6              13651   188  0.013585\n",
        "\n",
        "[6 rows x 3 columns]"
       ]
      }
     ],
     "prompt_number": 67
    },
    {
     "cell_type": "heading",
     "level": 1,
     "metadata": {},
     "source": [
      "Questing"
     ]
    },
    {
     "cell_type": "code",
     "collapsed": false,
     "input": [
      "df['Forested'] = df.Forest > 0\n",
      "df['Mountained'] = df.Mountain > 0\n",
      "df['Grasslanded'] = df.Grassland > 0"
     ],
     "language": "python",
     "metadata": {},
     "outputs": [],
     "prompt_number": 68
    },
    {
     "cell_type": "code",
     "collapsed": false,
     "input": [
      "float(len(df[df.Grasslanded])) / len(df)"
     ],
     "language": "python",
     "metadata": {},
     "outputs": [
      {
       "metadata": {},
       "output_type": "pyout",
       "prompt_number": 95,
       "text": [
        "0.14388076972289754"
       ]
      }
     ],
     "prompt_number": 95
    },
    {
     "cell_type": "code",
     "collapsed": false,
     "input": [
      "for s in ['Forest', 'Mountain', 'Grassland']:\n",
      "    df.groupby(s + 'ed').size().plot(kind = 'bar')\n",
      "    title('Attacked {0}'.format(s))\n",
      "    show()\n",
      "    close()"
     ],
     "language": "python",
     "metadata": {},
     "outputs": [
      {
       "metadata": {},
       "output_type": "display_data",
       "png": "[encoded data removed]",
       "text": [
        "<matplotlib.figure.Figure at 0x12d3f978>"
       ]
      },
      {
       "metadata": {},
       "output_type": "display_data",
       "png": "[encoded data removed]",
       "text": [
        "<matplotlib.figure.Figure at 0x12d309b0>"
       ]
      },
      {
       "metadata": {},
       "output_type": "display_data",
       "png": "[encoded data removed]",
       "text": [
        "<matplotlib.figure.Figure at 0x10822dd8>"
       ]
      }
     ],
     "prompt_number": 69
    },
    {
     "cell_type": "code",
     "collapsed": false,
     "input": [
      "for s in ['Forest', 'Mountain', 'Grassland']:\n",
      "    by_userid = pd.crosstab([df.user_type_id], df[s + 'ed'])\n",
      "    by_userid.plot(kind = 'bar', stacked = True)\n",
      "    title('Attacked {0}, Split By User Id'.format(s))\n",
      "    show()\n",
      "    close()\n",
      "    by_userid['pct'] = by_userid[True] / by_userid.sum(axis = 1).map(float)\n",
      "    print by_userid"
     ],
     "language": "python",
     "metadata": {},
     "outputs": [
      {
       "metadata": {},
       "output_type": "display_data",
       "png": "[encoded data removed]",
       "text": [
        "<matplotlib.figure.Figure at 0x108a01d0>"
       ]
      },
      {
       "output_type": "stream",
       "stream": "stdout",
       "text": [
        "Forested       False   True       pct\n",
        "user_type_id                         \n",
        "1             101387  10841  0.096598\n",
        "2              17063   4319  0.201992\n",
        "3              10340   3423  0.248710\n",
        "4               7516   3291  0.304525\n",
        "5               5109   2625  0.339410\n",
        "6               7817   6022  0.435147\n",
        "\n",
        "[6 rows x 3 columns]\n"
       ]
      },
      {
       "metadata": {},
       "output_type": "display_data",
       "png": "[encoded data removed]",
       "text": [
        "<matplotlib.figure.Figure at 0x1c5d5f98>"
       ]
      },
      {
       "output_type": "stream",
       "stream": "stdout",
       "text": [
        "Mountained     False  True       pct\n",
        "user_type_id                        \n",
        "1             104957  7271  0.064788\n",
        "2              18177  3205  0.149892\n",
        "3              11199  2564  0.186297\n",
        "4               8238  2569  0.237716\n",
        "5               5685  2049  0.264934\n",
        "6               9024  4815  0.347930\n",
        "\n",
        "[6 rows x 3 columns]\n"
       ]
      },
      {
       "metadata": {},
       "output_type": "display_data",
       "png": "[encoded data removed]",
       "text": [
        "<matplotlib.figure.Figure at 0x10899978>"
       ]
      },
      {
       "output_type": "stream",
       "stream": "stdout",
       "text": [
        "Grasslanded    False  True       pct\n",
        "user_type_id                        \n",
        "1             103494  8734  0.077824\n",
        "2              17607  3775  0.176550\n",
        "3              10879  2884  0.209547\n",
        "4               7928  2879  0.266401\n",
        "5               5432  2302  0.297647\n",
        "6               8550  5289  0.382181\n",
        "\n",
        "[6 rows x 3 columns]\n"
       ]
      }
     ],
     "prompt_number": 97
    },
    {
     "cell_type": "heading",
     "level": 1,
     "metadata": {},
     "source": [
      "Overall Engagement"
     ]
    },
    {
     "cell_type": "code",
     "collapsed": false,
     "input": [
      "df.groupby('user_type_id').aggregate({'pre_distDays':np.mean, 'during_distDays':np.mean})"
     ],
     "language": "python",
     "metadata": {},
     "outputs": [
      {
       "html": [
        "<div style=\"max-height:1000px;max-width:1500px;overflow:auto;\">\n",
        "<table border=\"1\" class=\"dataframe\">\n",
        "  <thead>\n",
        "    <tr style=\"text-align: right;\">\n",
        "      <th></th>\n",
        "      <th>pre_distDays</th>\n",
        "      <th>during_distDays</th>\n",
        "    </tr>\n",
        "    <tr>\n",
        "      <th>user_type_id</th>\n",
        "      <th></th>\n",
        "      <th></th>\n",
        "    </tr>\n",
        "  </thead>\n",
        "  <tbody>\n",
        "    <tr>\n",
        "      <th>1</th>\n",
        "      <td> 0.256514</td>\n",
        "      <td> 0.251236</td>\n",
        "    </tr>\n",
        "    <tr>\n",
        "      <th>2</th>\n",
        "      <td> 0.454690</td>\n",
        "      <td> 0.456646</td>\n",
        "    </tr>\n",
        "    <tr>\n",
        "      <th>3</th>\n",
        "      <td> 0.506537</td>\n",
        "      <td> 0.507725</td>\n",
        "    </tr>\n",
        "    <tr>\n",
        "      <th>4</th>\n",
        "      <td> 0.578389</td>\n",
        "      <td> 0.577816</td>\n",
        "    </tr>\n",
        "    <tr>\n",
        "      <th>5</th>\n",
        "      <td> 0.609646</td>\n",
        "      <td> 0.611045</td>\n",
        "    </tr>\n",
        "    <tr>\n",
        "      <th>6</th>\n",
        "      <td> 0.693551</td>\n",
        "      <td> 0.698533</td>\n",
        "    </tr>\n",
        "  </tbody>\n",
        "</table>\n",
        "<p>6 rows \u00d7 2 columns</p>\n",
        "</div>"
       ],
       "metadata": {},
       "output_type": "pyout",
       "prompt_number": 79,
       "text": [
        "              pre_distDays  during_distDays\n",
        "user_type_id                               \n",
        "1                 0.256514         0.251236\n",
        "2                 0.454690         0.456646\n",
        "3                 0.506537         0.507725\n",
        "4                 0.578389         0.577816\n",
        "5                 0.609646         0.611045\n",
        "6                 0.693551         0.698533\n",
        "\n",
        "[6 rows x 2 columns]"
       ]
      }
     ],
     "prompt_number": 79
    },
    {
     "cell_type": "code",
     "collapsed": false,
     "input": [
      "df.groupby('user_type_id').aggregate({'pre_distDays':np.mean, 'during_distDays':np.mean}).plot(kind = 'bar')\n",
      "title('Distinct Days Marching, Before and During')"
     ],
     "language": "python",
     "metadata": {},
     "outputs": [
      {
       "metadata": {},
       "output_type": "pyout",
       "prompt_number": 81,
       "text": [
        "<matplotlib.text.Text at 0x19bc1898>"
       ]
      },
      {
       "metadata": {},
       "output_type": "display_data",
       "png": "[encoded data removed]",
       "text": [
        "<matplotlib.figure.Figure at 0x1b0de160>"
       ]
      }
     ],
     "prompt_number": 81
    },
    {
     "cell_type": "code",
     "collapsed": false,
     "input": [
      "df[df.Grasslanded].groupby('user_type_id').aggregate({'pre_distDays':np.mean, 'during_distDays':np.mean}).plot(kind = 'bar')\n",
      "title('Distinct Days Marching, Before and During, Completed Grassland')"
     ],
     "language": "python",
     "metadata": {},
     "outputs": [
      {
       "metadata": {},
       "output_type": "pyout",
       "prompt_number": 84,
       "text": [
        "<matplotlib.text.Text at 0x1b789f28>"
       ]
      },
      {
       "metadata": {},
       "output_type": "display_data",
       "png": "[encoded data removed]",
       "text": [
        "<matplotlib.figure.Figure at 0x167db9e8>"
       ]
      }
     ],
     "prompt_number": 84
    },
    {
     "cell_type": "code",
     "collapsed": false,
     "input": [
      "df[df.Grasslanded].during_distDays.mean() / df[df.Grasslanded].pre_distDays.mean()"
     ],
     "language": "python",
     "metadata": {},
     "outputs": [
      {
       "metadata": {},
       "output_type": "pyout",
       "prompt_number": 92,
       "text": [
        "1.2189122402744506"
       ]
      }
     ],
     "prompt_number": 92
    },
    {
     "cell_type": "code",
     "collapsed": false,
     "input": [
      "distDays_usertype = df[df.Grasslanded].groupby('user_type_id').aggregate({'pre_distDays':np.mean, 'during_distDays':np.mean})\n",
      "distDays_usertype['pct'] = distDays_usertype.during_distDays / (distDays_usertype.pre_distDays + .001)\n",
      "distDays_usertype"
     ],
     "language": "python",
     "metadata": {},
     "outputs": [
      {
       "html": [
        "<div style=\"max-height:1000px;max-width:1500px;overflow:auto;\">\n",
        "<table border=\"1\" class=\"dataframe\">\n",
        "  <thead>\n",
        "    <tr style=\"text-align: right;\">\n",
        "      <th></th>\n",
        "      <th>pre_distDays</th>\n",
        "      <th>during_distDays</th>\n",
        "      <th>pct</th>\n",
        "    </tr>\n",
        "    <tr>\n",
        "      <th>user_type_id</th>\n",
        "      <th></th>\n",
        "      <th></th>\n",
        "      <th></th>\n",
        "    </tr>\n",
        "  </thead>\n",
        "  <tbody>\n",
        "    <tr>\n",
        "      <th>1</th>\n",
        "      <td> 0.475175</td>\n",
        "      <td> 0.706029</td>\n",
        "      <td> 1.482709</td>\n",
        "    </tr>\n",
        "    <tr>\n",
        "      <th>2</th>\n",
        "      <td> 0.662049</td>\n",
        "      <td> 0.795569</td>\n",
        "      <td> 1.199864</td>\n",
        "    </tr>\n",
        "    <tr>\n",
        "      <th>3</th>\n",
        "      <td> 0.718161</td>\n",
        "      <td> 0.834132</td>\n",
        "      <td> 1.159868</td>\n",
        "    </tr>\n",
        "    <tr>\n",
        "      <th>4</th>\n",
        "      <td> 0.755409</td>\n",
        "      <td> 0.853579</td>\n",
        "      <td> 1.128462</td>\n",
        "    </tr>\n",
        "    <tr>\n",
        "      <th>5</th>\n",
        "      <td> 0.779271</td>\n",
        "      <td> 0.868257</td>\n",
        "      <td> 1.112763</td>\n",
        "    </tr>\n",
        "    <tr>\n",
        "      <th>6</th>\n",
        "      <td> 0.826644</td>\n",
        "      <td> 0.900892</td>\n",
        "      <td> 1.088503</td>\n",
        "    </tr>\n",
        "  </tbody>\n",
        "</table>\n",
        "<p>6 rows \u00d7 3 columns</p>\n",
        "</div>"
       ],
       "metadata": {},
       "output_type": "pyout",
       "prompt_number": 85,
       "text": [
        "              pre_distDays  during_distDays       pct\n",
        "user_type_id                                         \n",
        "1                 0.475175         0.706029  1.482709\n",
        "2                 0.662049         0.795569  1.199864\n",
        "3                 0.718161         0.834132  1.159868\n",
        "4                 0.755409         0.853579  1.128462\n",
        "5                 0.779271         0.868257  1.112763\n",
        "6                 0.826644         0.900892  1.088503\n",
        "\n",
        "[6 rows x 3 columns]"
       ]
      }
     ],
     "prompt_number": 85
    },
    {
     "cell_type": "code",
     "collapsed": false,
     "input": [],
     "language": "python",
     "metadata": {},
     "outputs": []
    },
    {
     "cell_type": "code",
     "collapsed": false,
     "input": [
      "df.groupby('user_type_id').aggregate({'pre_rev':np.mean, 'during_rev':np.mean})"
     ],
     "language": "python",
     "metadata": {},
     "outputs": [
      {
       "html": [
        "<div style=\"max-height:1000px;max-width:1500px;overflow:auto;\">\n",
        "<table border=\"1\" class=\"dataframe\">\n",
        "  <thead>\n",
        "    <tr style=\"text-align: right;\">\n",
        "      <th></th>\n",
        "      <th>pre_rev</th>\n",
        "      <th>during_rev</th>\n",
        "    </tr>\n",
        "    <tr>\n",
        "      <th>user_type_id</th>\n",
        "      <th></th>\n",
        "      <th></th>\n",
        "    </tr>\n",
        "  </thead>\n",
        "  <tbody>\n",
        "    <tr>\n",
        "      <th>1</th>\n",
        "      <td>   0.000000</td>\n",
        "      <td>   0.000000</td>\n",
        "    </tr>\n",
        "    <tr>\n",
        "      <th>2</th>\n",
        "      <td>   3.463504</td>\n",
        "      <td>   3.809436</td>\n",
        "    </tr>\n",
        "    <tr>\n",
        "      <th>3</th>\n",
        "      <td>  32.826055</td>\n",
        "      <td>  29.372137</td>\n",
        "    </tr>\n",
        "    <tr>\n",
        "      <th>4</th>\n",
        "      <td>  85.213211</td>\n",
        "      <td>  80.602446</td>\n",
        "    </tr>\n",
        "    <tr>\n",
        "      <th>5</th>\n",
        "      <td> 184.920565</td>\n",
        "      <td> 175.901251</td>\n",
        "    </tr>\n",
        "    <tr>\n",
        "      <th>6</th>\n",
        "      <td> 989.136180</td>\n",
        "      <td> 965.118952</td>\n",
        "    </tr>\n",
        "  </tbody>\n",
        "</table>\n",
        "<p>6 rows \u00d7 2 columns</p>\n",
        "</div>"
       ],
       "metadata": {},
       "output_type": "pyout",
       "prompt_number": 71,
       "text": [
        "                 pre_rev  during_rev\n",
        "user_type_id                        \n",
        "1               0.000000    0.000000\n",
        "2               3.463504    3.809436\n",
        "3              32.826055   29.372137\n",
        "4              85.213211   80.602446\n",
        "5             184.920565  175.901251\n",
        "6             989.136180  965.118952\n",
        "\n",
        "[6 rows x 2 columns]"
       ]
      }
     ],
     "prompt_number": 71
    },
    {
     "cell_type": "code",
     "collapsed": false,
     "input": [
      "df.groupby('user_type_id').aggregate({'pre_rev':np.mean, 'during_rev':np.mean}).plot(kind = 'bar')\n",
      "title('Revenue per User-Day by User Type, Before and During')"
     ],
     "language": "python",
     "metadata": {},
     "outputs": [
      {
       "metadata": {},
       "output_type": "pyout",
       "prompt_number": 98,
       "text": [
        "<matplotlib.text.Text at 0x10cbc710>"
       ]
      },
      {
       "metadata": {},
       "output_type": "display_data",
       "png": "[encoded data removed]",
       "text": [
        "<matplotlib.figure.Figure at 0x167c8358>"
       ]
      }
     ],
     "prompt_number": 98
    },
    {
     "cell_type": "code",
     "collapsed": false,
     "input": [
      "rev_usertype = df[df.Grasslanded].groupby('user_type_id').aggregate({'pre_rev':np.mean, 'during_rev':np.mean})\n",
      "rev_usertype['pct'] = rev_usertype.during_rev / (rev_usertype.pre_rev + .001)\n",
      "rev_usertype"
     ],
     "language": "python",
     "metadata": {},
     "outputs": []
    },
    {
     "cell_type": "code",
     "collapsed": false,
     "input": [
      "df[df.Grasslanded].groupby('user_type_id').aggregate({'pre_rev':np.mean, 'during_rev':np.mean}).plot(kind = 'bar')\n",
      "title('Revenue per User-Day by User Type For Those Completing the Grassland, Before and During')"
     ],
     "language": "python",
     "metadata": {},
     "outputs": [
      {
       "metadata": {},
       "output_type": "pyout",
       "prompt_number": 99,
       "text": [
        "<matplotlib.text.Text at 0x12f367f0>"
       ]
      },
      {
       "metadata": {},
       "output_type": "display_data",
       "png": "[encoded data removed]",
       "text": [
        "<matplotlib.figure.Figure at 0x12f33240>"
       ]
      }
     ],
     "prompt_number": 99
    },
    {
     "cell_type": "code",
     "collapsed": false,
     "input": [
      "df[df.Grasslanded].during_rev.mean() / df[df.Grasslanded].pre_rev.mean()"
     ],
     "language": "python",
     "metadata": {},
     "outputs": [
      {
       "metadata": {},
       "output_type": "pyout",
       "prompt_number": 93,
       "text": [
        "1.0723714291655577"
       ]
      }
     ],
     "prompt_number": 93
    },
    {
     "cell_type": "code",
     "collapsed": false,
     "input": [
      "rev_usertype = df[df.Grasslanded].groupby('user_type_id').aggregate({'pre_rev':np.mean, 'during_rev':np.mean})\n",
      "rev_usertype['pct'] = rev_usertype.during_rev / (rev_usertype.pre_rev + .001)\n",
      "rev_usertype"
     ],
     "language": "python",
     "metadata": {},
     "outputs": [
      {
       "html": [
        "<div style=\"max-height:1000px;max-width:1500px;overflow:auto;\">\n",
        "<table border=\"1\" class=\"dataframe\">\n",
        "  <thead>\n",
        "    <tr style=\"text-align: right;\">\n",
        "      <th></th>\n",
        "      <th>pre_rev</th>\n",
        "      <th>during_rev</th>\n",
        "      <th>pct</th>\n",
        "    </tr>\n",
        "    <tr>\n",
        "      <th>user_type_id</th>\n",
        "      <th></th>\n",
        "      <th></th>\n",
        "      <th></th>\n",
        "    </tr>\n",
        "  </thead>\n",
        "  <tbody>\n",
        "    <tr>\n",
        "      <th>1</th>\n",
        "      <td>    0.000000</td>\n",
        "      <td>    0.000000</td>\n",
        "      <td> 0.000000</td>\n",
        "    </tr>\n",
        "    <tr>\n",
        "      <th>2</th>\n",
        "      <td>    4.750058</td>\n",
        "      <td>    6.878242</td>\n",
        "      <td> 1.447728</td>\n",
        "    </tr>\n",
        "    <tr>\n",
        "      <th>3</th>\n",
        "      <td>   45.157665</td>\n",
        "      <td>   46.091098</td>\n",
        "      <td> 1.020648</td>\n",
        "    </tr>\n",
        "    <tr>\n",
        "      <th>4</th>\n",
        "      <td>  107.436651</td>\n",
        "      <td>  122.707001</td>\n",
        "      <td> 1.142123</td>\n",
        "    </tr>\n",
        "    <tr>\n",
        "      <th>5</th>\n",
        "      <td>  231.201232</td>\n",
        "      <td>  256.850999</td>\n",
        "      <td> 1.110937</td>\n",
        "    </tr>\n",
        "    <tr>\n",
        "      <th>6</th>\n",
        "      <td> 1283.564979</td>\n",
        "      <td> 1368.496812</td>\n",
        "      <td> 1.066168</td>\n",
        "    </tr>\n",
        "  </tbody>\n",
        "</table>\n",
        "<p>6 rows \u00d7 3 columns</p>\n",
        "</div>"
       ],
       "metadata": {},
       "output_type": "pyout",
       "prompt_number": 77,
       "text": [
        "                  pre_rev   during_rev       pct\n",
        "user_type_id                                    \n",
        "1                0.000000     0.000000  0.000000\n",
        "2                4.750058     6.878242  1.447728\n",
        "3               45.157665    46.091098  1.020648\n",
        "4              107.436651   122.707001  1.142123\n",
        "5              231.201232   256.850999  1.110937\n",
        "6             1283.564979  1368.496812  1.066168\n",
        "\n",
        "[6 rows x 3 columns]"
       ]
      }
     ],
     "prompt_number": 77
    }
   ],
   "metadata": {}
  }
 ]
}