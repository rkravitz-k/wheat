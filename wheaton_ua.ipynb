{
 "metadata": {
  "name": "",
  "signature": "sha256:faf0ffe22dead42586f96cb31f0cb0fb0ebb1ea8e740a000ee5d4193de5cc65b"
 },
 "nbformat": 3,
 "nbformat_minor": 0,
 "worksheets": [
  {
   "cells": [
    {
     "cell_type": "heading",
     "level": 1,
     "metadata": {},
     "source": [
      "Getting _AW stuff and cleaning up"
     ]
    },
    {
     "cell_type": "code",
     "collapsed": false,
     "input": [
      "import pandas as pd, os, numpy as np, imp\n",
      "kbn_sql = imp.load_source('kbn_iter_sql', 'C:/utilities/python/kbn_iter_sql.py')\n",
      "path = 'C:/proj/wheaton/spotfire_aw_data/'\n",
      "os.chdir(path)\n",
      "fils = os.listdir('.')\n",
      "%pylab inline"
     ],
     "language": "python",
     "metadata": {},
     "outputs": [
      {
       "output_type": "stream",
       "stream": "stdout",
       "text": [
        "Populating the interactive namespace from numpy and matplotlib\n"
       ]
      }
     ],
     "prompt_number": 1
    },
    {
     "cell_type": "code",
     "collapsed": false,
     "input": [
      "import seaborn as sns"
     ],
     "language": "python",
     "metadata": {},
     "outputs": [],
     "prompt_number": 2
    },
    {
     "cell_type": "code",
     "collapsed": false,
     "input": [
      "sns.set_style('darkgrid')"
     ],
     "language": "python",
     "metadata": {},
     "outputs": [],
     "prompt_number": 33
    },
    {
     "cell_type": "code",
     "collapsed": false,
     "input": [
      "#sns.set_axes_style('darkgrid', 'notebook')"
     ],
     "language": "python",
     "metadata": {},
     "outputs": [],
     "prompt_number": 3
    },
    {
     "cell_type": "code",
     "collapsed": false,
     "input": [
      "fils = [x for x in fils if x[-4:] == '.txt']\n",
      "fils"
     ],
     "language": "python",
     "metadata": {},
     "outputs": [
      {
       "metadata": {},
       "output_type": "pyout",
       "prompt_number": 4,
       "text": [
        "['snapshot_aw (1).txt',\n",
        " 'snapshot_aw (2).txt',\n",
        " 'snapshot_aw (3).txt',\n",
        " 'snapshot_aw (4).txt',\n",
        " 'snapshot_aw.txt',\n",
        " 'snapshot_aw1_2.txt',\n",
        " 'snapshot_aw1_3.txt']"
       ]
      }
     ],
     "prompt_number": 4
    },
    {
     "cell_type": "code",
     "collapsed": false,
     "input": [
      "res = pd.DataFrame()\n",
      "for j, fil in zip([1, 2, 3, 4, 0, .33, .67], fils):\n",
      "    temp = pd.read_csv(path + fil, sep = '\\t')\n",
      "    temp['vers'] = j\n",
      "    res = pd.concat([res, temp])"
     ],
     "language": "python",
     "metadata": {},
     "outputs": [],
     "prompt_number": 5
    },
    {
     "cell_type": "code",
     "collapsed": false,
     "input": [
      "res.head()"
     ],
     "language": "python",
     "metadata": {},
     "outputs": [
      {
       "html": [
        "<div style=\"max-height:1000px;max-width:1500px;overflow:auto;\">\n",
        "<table border=\"1\" class=\"dataframe\">\n",
        "  <thead>\n",
        "    <tr style=\"text-align: right;\">\n",
        "      <th></th>\n",
        "      <th>created_at</th>\n",
        "      <th>last_login_at</th>\n",
        "      <th>player_id</th>\n",
        "      <th>player_level</th>\n",
        "      <th>player_name</th>\n",
        "      <th>realm_id</th>\n",
        "      <th>snapshot_time</th>\n",
        "      <th>user_id</th>\n",
        "      <th>vers</th>\n",
        "      <th>\ufeffid</th>\n",
        "    </tr>\n",
        "  </thead>\n",
        "  <tbody>\n",
        "    <tr>\n",
        "      <th>0</th>\n",
        "      <td> NaN</td>\n",
        "      <td> 4/21/2014</td>\n",
        "      <td>  7707</td>\n",
        "      <td> 44</td>\n",
        "      <td>          Cacc_AW</td>\n",
        "      <td>  3</td>\n",
        "      <td> 4/30/2014 5:06:43 PM</td>\n",
        "      <td>  11497</td>\n",
        "      <td> 1</td>\n",
        "      <td>  17936</td>\n",
        "    </tr>\n",
        "    <tr>\n",
        "      <th>1</th>\n",
        "      <td> NaN</td>\n",
        "      <td> 4/18/2014</td>\n",
        "      <td> 21291</td>\n",
        "      <td>  6</td>\n",
        "      <td> Rogue_Paladin_AW</td>\n",
        "      <td>  1</td>\n",
        "      <td> 4/30/2014 5:06:43 PM</td>\n",
        "      <td>  61151</td>\n",
        "      <td> 1</td>\n",
        "      <td>  28697</td>\n",
        "    </tr>\n",
        "    <tr>\n",
        "      <th>2</th>\n",
        "      <td> NaN</td>\n",
        "      <td> 4/21/2014</td>\n",
        "      <td>   212</td>\n",
        "      <td> 22</td>\n",
        "      <td>        Eragon_AW</td>\n",
        "      <td> 14</td>\n",
        "      <td> 4/30/2014 5:06:43 PM</td>\n",
        "      <td>  68972</td>\n",
        "      <td> 1</td>\n",
        "      <td>  36515</td>\n",
        "    </tr>\n",
        "    <tr>\n",
        "      <th>3</th>\n",
        "      <td> NaN</td>\n",
        "      <td> 4/21/2014</td>\n",
        "      <td>   789</td>\n",
        "      <td> 30</td>\n",
        "      <td>       Absalom_AW</td>\n",
        "      <td> 18</td>\n",
        "      <td> 4/30/2014 5:06:43 PM</td>\n",
        "      <td>  96518</td>\n",
        "      <td> 1</td>\n",
        "      <td>  60937</td>\n",
        "    </tr>\n",
        "    <tr>\n",
        "      <th>4</th>\n",
        "      <td> NaN</td>\n",
        "      <td> 4/20/2014</td>\n",
        "      <td> 16423</td>\n",
        "      <td> 14</td>\n",
        "      <td>        Leeira_AW</td>\n",
        "      <td>  4</td>\n",
        "      <td> 4/30/2014 5:06:43 PM</td>\n",
        "      <td> 215707</td>\n",
        "      <td> 1</td>\n",
        "      <td> 154108</td>\n",
        "    </tr>\n",
        "  </tbody>\n",
        "</table>\n",
        "<p>5 rows \u00d7 10 columns</p>\n",
        "</div>"
       ],
       "metadata": {},
       "output_type": "pyout",
       "prompt_number": 6,
       "text": [
        "  created_at last_login_at  player_id  player_level       player_name  \\\n",
        "0        NaN     4/21/2014       7707            44           Cacc_AW   \n",
        "1        NaN     4/18/2014      21291             6  Rogue_Paladin_AW   \n",
        "2        NaN     4/21/2014        212            22         Eragon_AW   \n",
        "3        NaN     4/21/2014        789            30        Absalom_AW   \n",
        "4        NaN     4/20/2014      16423            14         Leeira_AW   \n",
        "\n",
        "   realm_id         snapshot_time  user_id  vers     \ufeffid  \n",
        "0         3  4/30/2014 5:06:43 PM    11497     1   17936  \n",
        "1         1  4/30/2014 5:06:43 PM    61151     1   28697  \n",
        "2        14  4/30/2014 5:06:43 PM    68972     1   36515  \n",
        "3        18  4/30/2014 5:06:43 PM    96518     1   60937  \n",
        "4         4  4/30/2014 5:06:43 PM   215707     1  154108  \n",
        "\n",
        "[5 rows x 10 columns]"
       ]
      }
     ],
     "prompt_number": 6
    },
    {
     "cell_type": "code",
     "collapsed": false,
     "input": [
      "res.to_csv(path + 'all_aw.csv', index = False)"
     ],
     "language": "python",
     "metadata": {},
     "outputs": [],
     "prompt_number": 7
    },
    {
     "cell_type": "code",
     "collapsed": false,
     "input": [
      "res_uniq = res.drop_duplicates(cols = 'player_name')"
     ],
     "language": "python",
     "metadata": {},
     "outputs": [],
     "prompt_number": 8
    },
    {
     "cell_type": "code",
     "collapsed": false,
     "input": [
      "res_uniq.to_csv(path + 'all_unique_aw.csv', index = False)"
     ],
     "language": "python",
     "metadata": {},
     "outputs": [],
     "prompt_number": 9
    },
    {
     "cell_type": "code",
     "collapsed": false,
     "input": [
      "res_uniq = res_uniq.rename(columns = {res_uniq.columns[-1]: 'id'})"
     ],
     "language": "python",
     "metadata": {},
     "outputs": [],
     "prompt_number": 10
    },
    {
     "cell_type": "heading",
     "level": 1,
     "metadata": {},
     "source": [
      "Load user install events via user_property"
     ]
    },
    {
     "cell_type": "code",
     "collapsed": false,
     "input": [
      "query = '''select\n",
      "                naid,\n",
      "                game_net_id as platform_id,\n",
      "                entrytag,\n",
      "                install_date as timestamp,\n",
      "                date(install_date) as day,\n",
      "                hour(install_date) as hour,\n",
      "                weekday(install_date) as weekday,\n",
      "                country_id,\n",
      "                channel_id\n",
      "            from user_property\n",
      "            where\n",
      "                project_id = 107 and\n",
      "                install_date >= '2014-04-18' '''\n",
      "\n",
      "install_logs = kbn_sql.wrap_query('rkravitz', pw, 'preprocessing_v3', query) #fill in pw"
     ],
     "language": "python",
     "metadata": {},
     "outputs": [],
     "prompt_number": 11
    },
    {
     "cell_type": "code",
     "collapsed": false,
     "input": [
      "install_logs.head()"
     ],
     "language": "python",
     "metadata": {},
     "outputs": [
      {
       "html": [
        "<div style=\"max-height:1000px;max-width:1500px;overflow:auto;\">\n",
        "<table border=\"1\" class=\"dataframe\">\n",
        "  <thead>\n",
        "    <tr style=\"text-align: right;\">\n",
        "      <th></th>\n",
        "      <th>naid</th>\n",
        "      <th>platform_id</th>\n",
        "      <th>entrytag</th>\n",
        "      <th>timestamp</th>\n",
        "      <th>day</th>\n",
        "      <th>hour</th>\n",
        "      <th>weekday</th>\n",
        "      <th>country_id</th>\n",
        "      <th>channel_id</th>\n",
        "    </tr>\n",
        "  </thead>\n",
        "  <tbody>\n",
        "    <tr>\n",
        "      <th>0</th>\n",
        "      <td> 24098310</td>\n",
        "      <td>  2</td>\n",
        "      <td> </td>\n",
        "      <td>2014-04-24 21:38:40</td>\n",
        "      <td> 2014-04-24</td>\n",
        "      <td> 21</td>\n",
        "      <td> 3</td>\n",
        "      <td>  2</td>\n",
        "      <td> 1</td>\n",
        "    </tr>\n",
        "    <tr>\n",
        "      <th>1</th>\n",
        "      <td> 77307882</td>\n",
        "      <td>  2</td>\n",
        "      <td> </td>\n",
        "      <td>2014-04-28 10:31:13</td>\n",
        "      <td> 2014-04-28</td>\n",
        "      <td> 10</td>\n",
        "      <td> 0</td>\n",
        "      <td> 33</td>\n",
        "      <td> 1</td>\n",
        "    </tr>\n",
        "    <tr>\n",
        "      <th>2</th>\n",
        "      <td> 81522151</td>\n",
        "      <td>  2</td>\n",
        "      <td> </td>\n",
        "      <td>2014-04-28 08:54:15</td>\n",
        "      <td> 2014-04-28</td>\n",
        "      <td>  8</td>\n",
        "      <td> 0</td>\n",
        "      <td> 33</td>\n",
        "      <td> 1</td>\n",
        "    </tr>\n",
        "    <tr>\n",
        "      <th>3</th>\n",
        "      <td> 99753746</td>\n",
        "      <td> 51</td>\n",
        "      <td> </td>\n",
        "      <td>2014-04-22 19:33:56</td>\n",
        "      <td> 2014-04-22</td>\n",
        "      <td> 19</td>\n",
        "      <td> 1</td>\n",
        "      <td>  2</td>\n",
        "      <td> 1</td>\n",
        "    </tr>\n",
        "    <tr>\n",
        "      <th>4</th>\n",
        "      <td> 99921418</td>\n",
        "      <td>  2</td>\n",
        "      <td> </td>\n",
        "      <td>2014-04-20 05:32:10</td>\n",
        "      <td> 2014-04-20</td>\n",
        "      <td>  5</td>\n",
        "      <td> 6</td>\n",
        "      <td> 13</td>\n",
        "      <td> 1</td>\n",
        "    </tr>\n",
        "  </tbody>\n",
        "</table>\n",
        "<p>5 rows \u00d7 9 columns</p>\n",
        "</div>"
       ],
       "metadata": {},
       "output_type": "pyout",
       "prompt_number": 12,
       "text": [
        "       naid  platform_id entrytag           timestamp         day  hour  \\\n",
        "0  24098310            2          2014-04-24 21:38:40  2014-04-24    21   \n",
        "1  77307882            2          2014-04-28 10:31:13  2014-04-28    10   \n",
        "2  81522151            2          2014-04-28 08:54:15  2014-04-28     8   \n",
        "3  99753746           51          2014-04-22 19:33:56  2014-04-22    19   \n",
        "4  99921418            2          2014-04-20 05:32:10  2014-04-20     5   \n",
        "\n",
        "   weekday  country_id  channel_id  \n",
        "0        3           2           1  \n",
        "1        0          33           1  \n",
        "2        0          33           1  \n",
        "3        1           2           1  \n",
        "4        6          13           1  \n",
        "\n",
        "[5 rows x 9 columns]"
       ]
      }
     ],
     "prompt_number": 12
    },
    {
     "cell_type": "heading",
     "level": 1,
     "metadata": {},
     "source": [
      "Load table from game db to join naid/userid"
     ]
    },
    {
     "cell_type": "code",
     "collapsed": false,
     "input": [
      "join_table = kbn_sql.wrap_query('rkravitz', 'sqrt{nEg5}NOTufd', 'doam_cross', \"select id, naid from users where created_at >= '2014-04-15'\")"
     ],
     "language": "python",
     "metadata": {},
     "outputs": [],
     "prompt_number": 13
    },
    {
     "cell_type": "heading",
     "level": 1,
     "metadata": {},
     "source": [
      "Join Stuff"
     ]
    },
    {
     "cell_type": "code",
     "collapsed": false,
     "input": [
      "df = install_logs.merge(join_table, on = 'naid', how = 'left')"
     ],
     "language": "python",
     "metadata": {},
     "outputs": [],
     "prompt_number": 14
    },
    {
     "cell_type": "code",
     "collapsed": false,
     "input": [
      "df = df.merge(res_uniq, left_on = 'id', right_on = 'user_id', how = 'left')"
     ],
     "language": "python",
     "metadata": {},
     "outputs": [],
     "prompt_number": 15
    },
    {
     "cell_type": "code",
     "collapsed": false,
     "input": [
      "df = df[['timestamp', 'day', 'hour', 'weekday', 'naid', 'entrytag', 'country_id', 'platform_id', 'channel_id', 'user_id', 'player_name']]"
     ],
     "language": "python",
     "metadata": {},
     "outputs": [],
     "prompt_number": 16
    },
    {
     "cell_type": "code",
     "collapsed": false,
     "input": [
      "df.drop_duplicates(cols = ['naid'], inplace = True)"
     ],
     "language": "python",
     "metadata": {},
     "outputs": [],
     "prompt_number": 17
    },
    {
     "cell_type": "heading",
     "level": 1,
     "metadata": {},
     "source": [
      "Entrytags"
     ]
    },
    {
     "cell_type": "code",
     "collapsed": false,
     "input": [
      "entrytag_start = 'doah-pmv-501'"
     ],
     "language": "python",
     "metadata": {},
     "outputs": [],
     "prompt_number": 18
    },
    {
     "cell_type": "code",
     "collapsed": false,
     "input": [
      "df.entrytag.fillna('', inplace = True)"
     ],
     "language": "python",
     "metadata": {},
     "outputs": [],
     "prompt_number": 19
    },
    {
     "cell_type": "code",
     "collapsed": false,
     "input": [
      "df['tag'] = df.entrytag.map(lambda x: x.startswith(entrytag_start))"
     ],
     "language": "python",
     "metadata": {},
     "outputs": [],
     "prompt_number": 20
    },
    {
     "cell_type": "code",
     "collapsed": false,
     "input": [
      "df.groupby('tag').size()"
     ],
     "language": "python",
     "metadata": {},
     "outputs": [
      {
       "metadata": {},
       "output_type": "pyout",
       "prompt_number": 21,
       "text": [
        "tag\n",
        "False    336523\n",
        "True        951\n",
        "dtype: int64"
       ]
      }
     ],
     "prompt_number": 21
    },
    {
     "cell_type": "heading",
     "level": 1,
     "metadata": {},
     "source": [
      "_AW"
     ]
    },
    {
     "cell_type": "code",
     "collapsed": false,
     "input": [
      "df['aw'] = ~pd.isnull(df.player_name)"
     ],
     "language": "python",
     "metadata": {},
     "outputs": [],
     "prompt_number": 22
    },
    {
     "cell_type": "code",
     "collapsed": false,
     "input": [
      "df.groupby('aw').size()"
     ],
     "language": "python",
     "metadata": {},
     "outputs": [
      {
       "metadata": {},
       "output_type": "pyout",
       "prompt_number": 23,
       "text": [
        "aw\n",
        "False    336368\n",
        "True       1106\n",
        "dtype: int64"
       ]
      }
     ],
     "prompt_number": 23
    },
    {
     "cell_type": "heading",
     "level": 1,
     "metadata": {},
     "source": [
      "Calculate Attributable Installs"
     ]
    },
    {
     "cell_type": "code",
     "collapsed": false,
     "input": [
      "sizes = df.groupby(['tag', 'aw']).size()\n",
      "print sizes"
     ],
     "language": "python",
     "metadata": {},
     "outputs": [
      {
       "output_type": "stream",
       "stream": "stdout",
       "text": [
        "tag    aw   \n",
        "False  False    335593\n",
        "       True        930\n",
        "True   False       775\n",
        "       True        176\n",
        "dtype: int64\n"
       ]
      }
     ],
     "prompt_number": 24
    },
    {
     "cell_type": "code",
     "collapsed": false,
     "input": [
      "sizes[0][1]"
     ],
     "language": "python",
     "metadata": {},
     "outputs": [
      {
       "metadata": {},
       "output_type": "pyout",
       "prompt_number": 25,
       "text": [
        "930"
       ]
      }
     ],
     "prompt_number": 25
    },
    {
     "cell_type": "code",
     "collapsed": false,
     "input": [
      "#estimate install numbers\n",
      "x = sizes[1][0] + sizes[1][1] + sizes[0][1] / ( float(sizes[1][1]) / (sizes[1][0] + sizes[1][1]))\n",
      "round(x)"
     ],
     "language": "python",
     "metadata": {},
     "outputs": [
      {
       "metadata": {},
       "output_type": "pyout",
       "prompt_number": 26,
       "text": [
        "5976.0"
       ]
      }
     ],
     "prompt_number": 26
    },
    {
     "cell_type": "heading",
     "level": 1,
     "metadata": {},
     "source": [
      "Look at the _AW ratio over time, to check things"
     ]
    },
    {
     "cell_type": "code",
     "collapsed": false,
     "input": [
      "day_sizes = df.groupby(['day', 'tag', 'aw']).size().unstack().unstack()\n",
      "day_sizes['ratio'] = (day_sizes[True, True].map(float)) / (day_sizes[True].sum(axis = 1)) \n",
      "day_sizes['daily_contrib'] = day_sizes[True].sum(axis = 1) + day_sizes[False,True] / day_sizes.ratio\n",
      "day_sizes.daily_contrib = day_sizes.daily_contrib.map(round)\n",
      "day_sizes"
     ],
     "language": "python",
     "metadata": {},
     "outputs": [
      {
       "html": [
        "<div style=\"max-height:1000px;max-width:1500px;overflow:auto;\">\n",
        "<table border=\"1\" class=\"dataframe\">\n",
        "  <thead>\n",
        "    <tr>\n",
        "      <th>aw</th>\n",
        "      <th colspan=\"2\" halign=\"left\">False</th>\n",
        "      <th colspan=\"2\" halign=\"left\">True</th>\n",
        "      <th>ratio</th>\n",
        "      <th>daily_contrib</th>\n",
        "    </tr>\n",
        "    <tr>\n",
        "      <th>tag</th>\n",
        "      <th>False</th>\n",
        "      <th>True</th>\n",
        "      <th>False</th>\n",
        "      <th>True</th>\n",
        "      <th></th>\n",
        "      <th></th>\n",
        "    </tr>\n",
        "    <tr>\n",
        "      <th>day</th>\n",
        "      <th></th>\n",
        "      <th></th>\n",
        "      <th></th>\n",
        "      <th></th>\n",
        "      <th></th>\n",
        "      <th></th>\n",
        "    </tr>\n",
        "  </thead>\n",
        "  <tbody>\n",
        "    <tr>\n",
        "      <th>2014-04-18</th>\n",
        "      <td> 19527</td>\n",
        "      <td> 117</td>\n",
        "      <td> 234</td>\n",
        "      <td> 73</td>\n",
        "      <td> 0.237785</td>\n",
        "      <td>  799</td>\n",
        "    </tr>\n",
        "    <tr>\n",
        "      <th>2014-04-19</th>\n",
        "      <td> 20597</td>\n",
        "      <td>  60</td>\n",
        "      <td> 166</td>\n",
        "      <td> 24</td>\n",
        "      <td> 0.126316</td>\n",
        "      <td>  665</td>\n",
        "    </tr>\n",
        "    <tr>\n",
        "      <th>2014-04-20</th>\n",
        "      <td> 22011</td>\n",
        "      <td>  59</td>\n",
        "      <td> 113</td>\n",
        "      <td> 15</td>\n",
        "      <td> 0.117188</td>\n",
        "      <td>  631</td>\n",
        "    </tr>\n",
        "    <tr>\n",
        "      <th>2014-04-21</th>\n",
        "      <td> 19496</td>\n",
        "      <td>  89</td>\n",
        "      <td>  92</td>\n",
        "      <td> 18</td>\n",
        "      <td> 0.163636</td>\n",
        "      <td>  654</td>\n",
        "    </tr>\n",
        "    <tr>\n",
        "      <th>2014-04-22</th>\n",
        "      <td> 17621</td>\n",
        "      <td> 146</td>\n",
        "      <td> 104</td>\n",
        "      <td> 23</td>\n",
        "      <td> 0.181102</td>\n",
        "      <td>  933</td>\n",
        "    </tr>\n",
        "    <tr>\n",
        "      <th>2014-04-23</th>\n",
        "      <td> 18509</td>\n",
        "      <td> 140</td>\n",
        "      <td> 112</td>\n",
        "      <td> 18</td>\n",
        "      <td> 0.138462</td>\n",
        "      <td> 1141</td>\n",
        "    </tr>\n",
        "    <tr>\n",
        "      <th>2014-04-24</th>\n",
        "      <td> 20453</td>\n",
        "      <td>  60</td>\n",
        "      <td>  26</td>\n",
        "      <td>  2</td>\n",
        "      <td> 0.071429</td>\n",
        "      <td>  868</td>\n",
        "    </tr>\n",
        "    <tr>\n",
        "      <th>2014-04-25</th>\n",
        "      <td> 19792</td>\n",
        "      <td>  25</td>\n",
        "      <td>  21</td>\n",
        "      <td>  1</td>\n",
        "      <td> 0.045455</td>\n",
        "      <td>  572</td>\n",
        "    </tr>\n",
        "    <tr>\n",
        "      <th>2014-04-26</th>\n",
        "      <td> 22279</td>\n",
        "      <td>  19</td>\n",
        "      <td>  28</td>\n",
        "      <td>  1</td>\n",
        "      <td> 0.034483</td>\n",
        "      <td>  580</td>\n",
        "    </tr>\n",
        "    <tr>\n",
        "      <th>2014-04-27</th>\n",
        "      <td> 22779</td>\n",
        "      <td>  23</td>\n",
        "      <td>  17</td>\n",
        "      <td>  1</td>\n",
        "      <td> 0.055556</td>\n",
        "      <td>  432</td>\n",
        "    </tr>\n",
        "    <tr>\n",
        "      <th>2014-04-28</th>\n",
        "      <td> 17339</td>\n",
        "      <td>  28</td>\n",
        "      <td>  17</td>\n",
        "      <td>NaN</td>\n",
        "      <td>      NaN</td>\n",
        "      <td>  NaN</td>\n",
        "    </tr>\n",
        "    <tr>\n",
        "      <th>2014-04-29</th>\n",
        "      <td> 17367</td>\n",
        "      <td>   3</td>\n",
        "      <td> NaN</td>\n",
        "      <td>NaN</td>\n",
        "      <td>      NaN</td>\n",
        "      <td>  NaN</td>\n",
        "    </tr>\n",
        "    <tr>\n",
        "      <th>2014-04-30</th>\n",
        "      <td> 17795</td>\n",
        "      <td>   1</td>\n",
        "      <td> NaN</td>\n",
        "      <td>NaN</td>\n",
        "      <td>      NaN</td>\n",
        "      <td>  NaN</td>\n",
        "    </tr>\n",
        "    <tr>\n",
        "      <th>2014-05-01</th>\n",
        "      <td> 19696</td>\n",
        "      <td>   2</td>\n",
        "      <td> NaN</td>\n",
        "      <td>NaN</td>\n",
        "      <td>      NaN</td>\n",
        "      <td>  NaN</td>\n",
        "    </tr>\n",
        "    <tr>\n",
        "      <th>2014-05-02</th>\n",
        "      <td> 16743</td>\n",
        "      <td> NaN</td>\n",
        "      <td> NaN</td>\n",
        "      <td>NaN</td>\n",
        "      <td>      NaN</td>\n",
        "      <td>  NaN</td>\n",
        "    </tr>\n",
        "    <tr>\n",
        "      <th>2014-05-03</th>\n",
        "      <td> 18124</td>\n",
        "      <td>   1</td>\n",
        "      <td> NaN</td>\n",
        "      <td>NaN</td>\n",
        "      <td>      NaN</td>\n",
        "      <td>  NaN</td>\n",
        "    </tr>\n",
        "    <tr>\n",
        "      <th>2014-05-04</th>\n",
        "      <td> 18616</td>\n",
        "      <td>   2</td>\n",
        "      <td> NaN</td>\n",
        "      <td>NaN</td>\n",
        "      <td>      NaN</td>\n",
        "      <td>  NaN</td>\n",
        "    </tr>\n",
        "    <tr>\n",
        "      <th>2014-05-05</th>\n",
        "      <td>  6849</td>\n",
        "      <td> NaN</td>\n",
        "      <td> NaN</td>\n",
        "      <td>NaN</td>\n",
        "      <td>      NaN</td>\n",
        "      <td>  NaN</td>\n",
        "    </tr>\n",
        "  </tbody>\n",
        "</table>\n",
        "<p>18 rows \u00d7 6 columns</p>\n",
        "</div>"
       ],
       "metadata": {},
       "output_type": "pyout",
       "prompt_number": 27,
       "text": [
        "aw          False         True           ratio  daily_contrib\n",
        "tag         False  True  False  True                         \n",
        "day                                                          \n",
        "2014-04-18  19527   117    234    73  0.237785            799\n",
        "2014-04-19  20597    60    166    24  0.126316            665\n",
        "2014-04-20  22011    59    113    15  0.117188            631\n",
        "2014-04-21  19496    89     92    18  0.163636            654\n",
        "2014-04-22  17621   146    104    23  0.181102            933\n",
        "2014-04-23  18509   140    112    18  0.138462           1141\n",
        "2014-04-24  20453    60     26     2  0.071429            868\n",
        "2014-04-25  19792    25     21     1  0.045455            572\n",
        "2014-04-26  22279    19     28     1  0.034483            580\n",
        "2014-04-27  22779    23     17     1  0.055556            432\n",
        "2014-04-28  17339    28     17   NaN       NaN            NaN\n",
        "2014-04-29  17367     3    NaN   NaN       NaN            NaN\n",
        "2014-04-30  17795     1    NaN   NaN       NaN            NaN\n",
        "2014-05-01  19696     2    NaN   NaN       NaN            NaN\n",
        "2014-05-02  16743   NaN    NaN   NaN       NaN            NaN\n",
        "2014-05-03  18124     1    NaN   NaN       NaN            NaN\n",
        "2014-05-04  18616     2    NaN   NaN       NaN            NaN\n",
        "2014-05-05   6849   NaN    NaN   NaN       NaN            NaN\n",
        "\n",
        "[18 rows x 6 columns]"
       ]
      }
     ],
     "prompt_number": 27
    },
    {
     "cell_type": "code",
     "collapsed": false,
     "input": [
      "#I think this estimate is less reliable than the other one, because of the noise at the end.\n",
      "day_sizes.daily_contrib.sum()"
     ],
     "language": "python",
     "metadata": {},
     "outputs": [
      {
       "metadata": {},
       "output_type": "pyout",
       "prompt_number": 28,
       "text": [
        "7275.0"
       ]
      }
     ],
     "prompt_number": 28
    },
    {
     "cell_type": "heading",
     "level": 1,
     "metadata": {},
     "source": [
      "Daily Installs by Platform"
     ]
    },
    {
     "cell_type": "code",
     "collapsed": false,
     "input": [
      "%matplotlib inline\n",
      "df.day = pd.to_datetime(df.day)\n",
      "df.groupby(['day', 'platform_id']).size().unstack().plot()"
     ],
     "language": "python",
     "metadata": {},
     "outputs": [
      {
       "metadata": {},
       "output_type": "pyout",
       "prompt_number": 35,
       "text": [
        "<matplotlib.axes.AxesSubplot at 0x1204b128>"
       ]
      },
      {
       "metadata": {},
       "output_type": "display_data",
       "png": "[encoded data removed]",
       "text": [
        "<matplotlib.figure.Figure at 0x134557f0>"
       ]
      }
     ],
     "prompt_number": 35
    },
    {
     "cell_type": "heading",
     "level": 1,
     "metadata": {},
     "source": [
      "Daily Installs by Platform (tagged only) Note the reversal between Android/iOS"
     ]
    },
    {
     "cell_type": "code",
     "collapsed": false,
     "input": [
      "df[df.tag].groupby(['day', 'platform_id']).size().unstack().plot()\n",
      "title('Tagged Installs by Platform')"
     ],
     "language": "python",
     "metadata": {},
     "outputs": [
      {
       "metadata": {},
       "output_type": "pyout",
       "prompt_number": 40,
       "text": [
        "<matplotlib.text.Text at 0x11a03198>"
       ]
      },
      {
       "metadata": {},
       "output_type": "display_data",
       "png": "[encoded data removed]",
       "text": [
        "<matplotlib.figure.Figure at 0x11db5d30>"
       ]
      }
     ],
     "prompt_number": 40
    },
    {
     "cell_type": "heading",
     "level": 1,
     "metadata": {},
     "source": [
      "Tagged Installs by Country Id"
     ]
    },
    {
     "cell_type": "code",
     "collapsed": false,
     "input": [
      "by_country = df[df.tag].groupby('country_id').size()\n",
      "by_country = pd.DataFrame(by_country).rename(columns = {0:'installs'})\n",
      "\n",
      "dim_country = kbn_sql.wrap_query('rkravitz', 'sqrt{nEg5}NOTufd', 'boom_v3', 'select id as country_id, marketing_country from dim_country').set_index('country_id')\n",
      "by_country = dim_country.join(by_country)\n",
      "\n",
      "by_country.dropna().sort(columns = 'installs', ascending = False).head(10)"
     ],
     "language": "python",
     "metadata": {},
     "outputs": [
      {
       "html": [
        "<div style=\"max-height:1000px;max-width:1500px;overflow:auto;\">\n",
        "<table border=\"1\" class=\"dataframe\">\n",
        "  <thead>\n",
        "    <tr style=\"text-align: right;\">\n",
        "      <th></th>\n",
        "      <th>marketing_country</th>\n",
        "      <th>installs</th>\n",
        "    </tr>\n",
        "    <tr>\n",
        "      <th>country_id</th>\n",
        "      <th></th>\n",
        "      <th></th>\n",
        "    </tr>\n",
        "  </thead>\n",
        "  <tbody>\n",
        "    <tr>\n",
        "      <th>2 </th>\n",
        "      <td>          US</td>\n",
        "      <td> 772</td>\n",
        "    </tr>\n",
        "    <tr>\n",
        "      <th>7 </th>\n",
        "      <td>          UK</td>\n",
        "      <td>  61</td>\n",
        "    </tr>\n",
        "    <tr>\n",
        "      <th>24</th>\n",
        "      <td>      Canada</td>\n",
        "      <td>  44</td>\n",
        "    </tr>\n",
        "    <tr>\n",
        "      <th>78</th>\n",
        "      <td>   Australia</td>\n",
        "      <td>  15</td>\n",
        "    </tr>\n",
        "    <tr>\n",
        "      <th>5 </th>\n",
        "      <td>     Germany</td>\n",
        "      <td>  11</td>\n",
        "    </tr>\n",
        "    <tr>\n",
        "      <th>13</th>\n",
        "      <td>      Sweden</td>\n",
        "      <td>   4</td>\n",
        "    </tr>\n",
        "    <tr>\n",
        "      <th>90</th>\n",
        "      <td> New Zealand</td>\n",
        "      <td>   3</td>\n",
        "    </tr>\n",
        "    <tr>\n",
        "      <th>6 </th>\n",
        "      <td>      France</td>\n",
        "      <td>   3</td>\n",
        "    </tr>\n",
        "    <tr>\n",
        "      <th>28</th>\n",
        "      <td>      Brazil</td>\n",
        "      <td>   3</td>\n",
        "    </tr>\n",
        "    <tr>\n",
        "      <th>33</th>\n",
        "      <td>   Argentina</td>\n",
        "      <td>   3</td>\n",
        "    </tr>\n",
        "  </tbody>\n",
        "</table>\n",
        "<p>10 rows \u00d7 2 columns</p>\n",
        "</div>"
       ],
       "metadata": {},
       "output_type": "pyout",
       "prompt_number": 31,
       "text": [
        "           marketing_country  installs\n",
        "country_id                            \n",
        "2                         US       772\n",
        "7                         UK        61\n",
        "24                    Canada        44\n",
        "78                 Australia        15\n",
        "5                    Germany        11\n",
        "13                    Sweden         4\n",
        "90               New Zealand         3\n",
        "6                     France         3\n",
        "28                    Brazil         3\n",
        "33                 Argentina         3\n",
        "\n",
        "[10 rows x 2 columns]"
       ]
      }
     ],
     "prompt_number": 31
    },
    {
     "cell_type": "code",
     "collapsed": false,
     "input": [
      "5025 + 176 + 775"
     ],
     "language": "python",
     "metadata": {},
     "outputs": [
      {
       "metadata": {},
       "output_type": "pyout",
       "prompt_number": 39,
       "text": [
        "5976"
       ]
      }
     ],
     "prompt_number": 39
    }
   ],
   "metadata": {}
  }
 ]
}